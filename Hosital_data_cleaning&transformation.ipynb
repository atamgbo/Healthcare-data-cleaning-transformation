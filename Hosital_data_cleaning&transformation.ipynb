{
 "cells": [
  {
   "cell_type": "code",
   "execution_count": 3,
   "id": "7de23390",
   "metadata": {},
   "outputs": [],
   "source": [
    "from pyspark.sql import SparkSession\n",
    "import getpass\n",
    "username = getpass.getuser()\n",
    "spark = SparkSession. \\\n",
    "    builder. \\\n",
    "    config('spark.ui.port','0'). \\\n",
    "    config(\"spark.sql.warehouse.dir\",f\"/user/itv010130/warehouse\"). \\\n",
    "    enableHiveSupport(). \\\n",
    "    master('yarn'). \\\n",
    "    getOrCreate()"
   ]
  },
  {
   "cell_type": "code",
   "execution_count": 4,
   "id": "9a5c1956",
   "metadata": {},
   "outputs": [
    {
     "data": {
      "text/html": [
       "\n",
       "            <div>\n",
       "                <p><b>SparkSession - hive</b></p>\n",
       "                \n",
       "        <div>\n",
       "            <p><b>SparkContext</b></p>\n",
       "\n",
       "            <p><a href=\"http://g01.itversity.com:40275\">Spark UI</a></p>\n",
       "\n",
       "            <dl>\n",
       "              <dt>Version</dt>\n",
       "                <dd><code>v3.1.2</code></dd>\n",
       "              <dt>Master</dt>\n",
       "                <dd><code>yarn</code></dd>\n",
       "              <dt>AppName</dt>\n",
       "                <dd><code>pyspark-shell</code></dd>\n",
       "            </dl>\n",
       "        </div>\n",
       "        \n",
       "            </div>\n",
       "        "
      ],
      "text/plain": [
       "<pyspark.sql.session.SparkSession at 0x7f83f116a278>"
      ]
     },
     "execution_count": 4,
     "metadata": {},
     "output_type": "execute_result"
    }
   ],
   "source": [
    "spark"
   ]
  },
  {
   "cell_type": "code",
   "execution_count": 5,
   "id": "913e6f7d",
   "metadata": {},
   "outputs": [],
   "source": [
    "hospital_df = spark.read.format(\"csv\").option(\"header\",\"true\").option(\"inferSchema\",\"true\").load(\"/public/trendytech/datasets/hospital.csv\")"
   ]
  },
  {
   "cell_type": "code",
   "execution_count": 6,
   "id": "940abd27",
   "metadata": {},
   "outputs": [
    {
     "name": "stdout",
     "output_type": "stream",
     "text": [
      "+----------+--------------+--------------+-------------+---------+----------+\n",
      "|patient_id|admission_date|discharge_date|    diagnosis|doctor_id|total_cost|\n",
      "+----------+--------------+--------------+-------------+---------+----------+\n",
      "|         1|    01-01-2022|    2022-01-10|    Pneumonia|      101|    5000.0|\n",
      "|         2|    02-05-2022|    2022-02-09| Appendicitis|      102|    7000.0|\n",
      "|         3|    03-12-2022|    2022-03-18|Fractured Arm|      103|    3500.0|\n",
      "|         4|    04-02-2022|    2022-04-08| Heart Attack|      104|   15000.0|\n",
      "|         5|    05-05-2022|    2022-05-07|    Influenza|      105|    2500.0|\n",
      "+----------+--------------+--------------+-------------+---------+----------+\n",
      "only showing top 5 rows\n",
      "\n"
     ]
    }
   ],
   "source": [
    "hospital_df.show(5)"
   ]
  },
  {
   "cell_type": "code",
   "execution_count": 7,
   "id": "f7ad5085",
   "metadata": {},
   "outputs": [
    {
     "name": "stdout",
     "output_type": "stream",
     "text": [
      "root\n",
      " |-- patient_id: integer (nullable = true)\n",
      " |-- admission_date: string (nullable = true)\n",
      " |-- discharge_date: string (nullable = true)\n",
      " |-- diagnosis: string (nullable = true)\n",
      " |-- doctor_id: integer (nullable = true)\n",
      " |-- total_cost: double (nullable = true)\n",
      "\n"
     ]
    }
   ],
   "source": [
    "hospital_df.printSchema()"
   ]
  },
  {
   "cell_type": "markdown",
   "id": "96870552",
   "metadata": {},
   "source": [
    "### 1. Drop doctor_id column"
   ]
  },
  {
   "cell_type": "code",
   "execution_count": 8,
   "id": "57e95925",
   "metadata": {},
   "outputs": [],
   "source": [
    "new_hosp_df1 = hospital_df.drop(\"doctor_id\")"
   ]
  },
  {
   "cell_type": "code",
   "execution_count": 9,
   "id": "85525aea",
   "metadata": {},
   "outputs": [
    {
     "name": "stdout",
     "output_type": "stream",
     "text": [
      "+----------+--------------+--------------+-------------+----------+\n",
      "|patient_id|admission_date|discharge_date|    diagnosis|total_cost|\n",
      "+----------+--------------+--------------+-------------+----------+\n",
      "|         1|    01-01-2022|    2022-01-10|    Pneumonia|    5000.0|\n",
      "|         2|    02-05-2022|    2022-02-09| Appendicitis|    7000.0|\n",
      "|         3|    03-12-2022|    2022-03-18|Fractured Arm|    3500.0|\n",
      "|         4|    04-02-2022|    2022-04-08| Heart Attack|   15000.0|\n",
      "|         5|    05-05-2022|    2022-05-07|    Influenza|    2500.0|\n",
      "|         6|    06-10-2022|    2022-06-15| Appendicitis|    8000.0|\n",
      "|         7|    07-20-2022|    2022-07-25|    Pneumonia|    5500.0|\n",
      "|         8|    08-25-2022|    2022-09-01| Heart Attack|   20000.0|\n",
      "|         9|    09-15-2022|    2022-09-22|Fractured Leg|    6000.0|\n",
      "|        10|    10-05-2022|    2022-10-10| Appendicitis|    7500.0|\n",
      "|        11|    11-02-2022|    2022-11-05|    Influenza|    2800.0|\n",
      "|        12|    12-10-2022|    2022-12-18|    Pneumonia|    6000.0|\n",
      "|        13|    01-02-2023|    2023-01-09| Heart Attack|   18000.0|\n",
      "|        14|    02-14-2023|    2023-02-18| Appendicitis|    7200.0|\n",
      "|        15|    03-20-2023|    2023-03-28|Fractured Arm|    3800.0|\n",
      "|        16|    04-05-2023|    2023-04-11|    Influenza|    2700.0|\n",
      "|        17|    05-08-2023|    2023-05-11| Heart Attack|   16000.0|\n",
      "|        18|    06-15-2023|    2023-06-20|    Pneumonia|    4800.0|\n",
      "|        19|    07-22-2023|    2023-07-27|Fractured Leg|    6500.0|\n",
      "|        20|    08-10-2023|    2023-08-16| Appendicitis|    7800.0|\n",
      "+----------+--------------+--------------+-------------+----------+\n",
      "only showing top 20 rows\n",
      "\n"
     ]
    }
   ],
   "source": [
    "new_hosp_df1.show()"
   ]
  },
  {
   "cell_type": "markdown",
   "id": "06ea450b",
   "metadata": {},
   "source": [
    "### 2. Change total_cost column to hospital_bill"
   ]
  },
  {
   "cell_type": "code",
   "execution_count": 10,
   "id": "b38b98cc",
   "metadata": {},
   "outputs": [],
   "source": [
    "new_hosp_df2 = new_hosp_df1.withColumnRenamed(\"total_cost\",\"hospital_bill\")"
   ]
  },
  {
   "cell_type": "code",
   "execution_count": 11,
   "id": "a510c05a",
   "metadata": {},
   "outputs": [
    {
     "name": "stdout",
     "output_type": "stream",
     "text": [
      "+----------+--------------+--------------+-------------+-------------+\n",
      "|patient_id|admission_date|discharge_date|    diagnosis|hospital_bill|\n",
      "+----------+--------------+--------------+-------------+-------------+\n",
      "|         1|    01-01-2022|    2022-01-10|    Pneumonia|       5000.0|\n",
      "|         2|    02-05-2022|    2022-02-09| Appendicitis|       7000.0|\n",
      "|         3|    03-12-2022|    2022-03-18|Fractured Arm|       3500.0|\n",
      "|         4|    04-02-2022|    2022-04-08| Heart Attack|      15000.0|\n",
      "|         5|    05-05-2022|    2022-05-07|    Influenza|       2500.0|\n",
      "|         6|    06-10-2022|    2022-06-15| Appendicitis|       8000.0|\n",
      "|         7|    07-20-2022|    2022-07-25|    Pneumonia|       5500.0|\n",
      "|         8|    08-25-2022|    2022-09-01| Heart Attack|      20000.0|\n",
      "|         9|    09-15-2022|    2022-09-22|Fractured Leg|       6000.0|\n",
      "|        10|    10-05-2022|    2022-10-10| Appendicitis|       7500.0|\n",
      "|        11|    11-02-2022|    2022-11-05|    Influenza|       2800.0|\n",
      "|        12|    12-10-2022|    2022-12-18|    Pneumonia|       6000.0|\n",
      "|        13|    01-02-2023|    2023-01-09| Heart Attack|      18000.0|\n",
      "|        14|    02-14-2023|    2023-02-18| Appendicitis|       7200.0|\n",
      "|        15|    03-20-2023|    2023-03-28|Fractured Arm|       3800.0|\n",
      "|        16|    04-05-2023|    2023-04-11|    Influenza|       2700.0|\n",
      "|        17|    05-08-2023|    2023-05-11| Heart Attack|      16000.0|\n",
      "|        18|    06-15-2023|    2023-06-20|    Pneumonia|       4800.0|\n",
      "|        19|    07-22-2023|    2023-07-27|Fractured Leg|       6500.0|\n",
      "|        20|    08-10-2023|    2023-08-16| Appendicitis|       7800.0|\n",
      "+----------+--------------+--------------+-------------+-------------+\n",
      "only showing top 20 rows\n",
      "\n"
     ]
    }
   ],
   "source": [
    "new_hosp_df2.show()"
   ]
  },
  {
   "cell_type": "markdown",
   "id": "6b453bd0",
   "metadata": {},
   "source": [
    "### 3. Add new column \"duration_of_stay\""
   ]
  },
  {
   "cell_type": "code",
   "execution_count": 12,
   "id": "1fb30ff5",
   "metadata": {},
   "outputs": [],
   "source": [
    "from pyspark.sql.functions import to_date"
   ]
  },
  {
   "cell_type": "code",
   "execution_count": 13,
   "id": "a5739aca",
   "metadata": {},
   "outputs": [],
   "source": [
    "new_hosp_df3 = new_hosp_df2.withColumn(\"admission_date\",to_date(\"admission_date\",\"MM-dd-yyyy\"))"
   ]
  },
  {
   "cell_type": "code",
   "execution_count": 14,
   "id": "8a765c05",
   "metadata": {},
   "outputs": [
    {
     "name": "stdout",
     "output_type": "stream",
     "text": [
      "+----------+--------------+--------------+-------------+-------------+\n",
      "|patient_id|admission_date|discharge_date|    diagnosis|hospital_bill|\n",
      "+----------+--------------+--------------+-------------+-------------+\n",
      "|         1|    2022-01-01|    2022-01-10|    Pneumonia|       5000.0|\n",
      "|         2|    2022-02-05|    2022-02-09| Appendicitis|       7000.0|\n",
      "|         3|    2022-03-12|    2022-03-18|Fractured Arm|       3500.0|\n",
      "|         4|    2022-04-02|    2022-04-08| Heart Attack|      15000.0|\n",
      "|         5|    2022-05-05|    2022-05-07|    Influenza|       2500.0|\n",
      "|         6|    2022-06-10|    2022-06-15| Appendicitis|       8000.0|\n",
      "|         7|    2022-07-20|    2022-07-25|    Pneumonia|       5500.0|\n",
      "|         8|    2022-08-25|    2022-09-01| Heart Attack|      20000.0|\n",
      "|         9|    2022-09-15|    2022-09-22|Fractured Leg|       6000.0|\n",
      "|        10|    2022-10-05|    2022-10-10| Appendicitis|       7500.0|\n",
      "|        11|    2022-11-02|    2022-11-05|    Influenza|       2800.0|\n",
      "|        12|    2022-12-10|    2022-12-18|    Pneumonia|       6000.0|\n",
      "|        13|    2023-01-02|    2023-01-09| Heart Attack|      18000.0|\n",
      "|        14|    2023-02-14|    2023-02-18| Appendicitis|       7200.0|\n",
      "|        15|    2023-03-20|    2023-03-28|Fractured Arm|       3800.0|\n",
      "|        16|    2023-04-05|    2023-04-11|    Influenza|       2700.0|\n",
      "|        17|    2023-05-08|    2023-05-11| Heart Attack|      16000.0|\n",
      "|        18|    2023-06-15|    2023-06-20|    Pneumonia|       4800.0|\n",
      "|        19|    2023-07-22|    2023-07-27|Fractured Leg|       6500.0|\n",
      "|        20|    2023-08-10|    2023-08-16| Appendicitis|       7800.0|\n",
      "+----------+--------------+--------------+-------------+-------------+\n",
      "only showing top 20 rows\n",
      "\n"
     ]
    }
   ],
   "source": [
    "new_hosp_df3.show()"
   ]
  },
  {
   "cell_type": "code",
   "execution_count": 15,
   "id": "3868ce93",
   "metadata": {},
   "outputs": [],
   "source": [
    "from pyspark.sql.functions import expr"
   ]
  },
  {
   "cell_type": "code",
   "execution_count": 16,
   "id": "2a7deb3d",
   "metadata": {},
   "outputs": [],
   "source": [
    "new_hosp_df4 = new_hosp_df3.selectExpr(\"*\",(\"discharge_date - admission_date as duration_of_stay\"))"
   ]
  },
  {
   "cell_type": "code",
   "execution_count": 17,
   "id": "baf93779",
   "metadata": {},
   "outputs": [
    {
     "name": "stdout",
     "output_type": "stream",
     "text": [
      "+----------+--------------+--------------+-------------+-------------+----------------+\n",
      "|patient_id|admission_date|discharge_date|    diagnosis|hospital_bill|duration_of_stay|\n",
      "+----------+--------------+--------------+-------------+-------------+----------------+\n",
      "|         1|    2022-01-01|    2022-01-10|    Pneumonia|       5000.0|          9 days|\n",
      "|         2|    2022-02-05|    2022-02-09| Appendicitis|       7000.0|          4 days|\n",
      "|         3|    2022-03-12|    2022-03-18|Fractured Arm|       3500.0|          6 days|\n",
      "|         4|    2022-04-02|    2022-04-08| Heart Attack|      15000.0|          6 days|\n",
      "|         5|    2022-05-05|    2022-05-07|    Influenza|       2500.0|          2 days|\n",
      "|         6|    2022-06-10|    2022-06-15| Appendicitis|       8000.0|          5 days|\n",
      "|         7|    2022-07-20|    2022-07-25|    Pneumonia|       5500.0|          5 days|\n",
      "|         8|    2022-08-25|    2022-09-01| Heart Attack|      20000.0|          7 days|\n",
      "|         9|    2022-09-15|    2022-09-22|Fractured Leg|       6000.0|          7 days|\n",
      "|        10|    2022-10-05|    2022-10-10| Appendicitis|       7500.0|          5 days|\n",
      "|        11|    2022-11-02|    2022-11-05|    Influenza|       2800.0|          3 days|\n",
      "|        12|    2022-12-10|    2022-12-18|    Pneumonia|       6000.0|          8 days|\n",
      "|        13|    2023-01-02|    2023-01-09| Heart Attack|      18000.0|          7 days|\n",
      "|        14|    2023-02-14|    2023-02-18| Appendicitis|       7200.0|          4 days|\n",
      "|        15|    2023-03-20|    2023-03-28|Fractured Arm|       3800.0|          8 days|\n",
      "|        16|    2023-04-05|    2023-04-11|    Influenza|       2700.0|          6 days|\n",
      "|        17|    2023-05-08|    2023-05-11| Heart Attack|      16000.0|          3 days|\n",
      "|        18|    2023-06-15|    2023-06-20|    Pneumonia|       4800.0|          5 days|\n",
      "|        19|    2023-07-22|    2023-07-27|Fractured Leg|       6500.0|          5 days|\n",
      "|        20|    2023-08-10|    2023-08-16| Appendicitis|       7800.0|          6 days|\n",
      "+----------+--------------+--------------+-------------+-------------+----------------+\n",
      "only showing top 20 rows\n",
      "\n"
     ]
    }
   ],
   "source": [
    "new_hosp_df4.show()"
   ]
  },
  {
   "cell_type": "markdown",
   "id": "0de35894",
   "metadata": {},
   "source": [
    "### 4. Create new column 'adjusted_total_cost' and increase hospital_bill rates for heart attack by 50% and appendicitis by 20%"
   ]
  },
  {
   "cell_type": "code",
   "execution_count": 21,
   "id": "f96d48ba",
   "metadata": {},
   "outputs": [],
   "source": [
    "new_hosp_df5 = new_hosp_df4.withColumn(\"adjusted_total_cost\",expr(\"CASE WHEN diagnosis LIKE '%Heart Attack%' THEN hospital_bill * 1.5 WHEN diagnosis LIKE '%Appendicitis%' THEN hospital_bill * 1.2 ELSE hospital_bill END\"))"
   ]
  },
  {
   "cell_type": "code",
   "execution_count": 22,
   "id": "3df1563f",
   "metadata": {},
   "outputs": [
    {
     "name": "stdout",
     "output_type": "stream",
     "text": [
      "+----------+--------------+--------------+-------------+-------------+----------------+-------------------+\n",
      "|patient_id|admission_date|discharge_date|    diagnosis|hospital_bill|duration_of_stay|adjusted_total_cost|\n",
      "+----------+--------------+--------------+-------------+-------------+----------------+-------------------+\n",
      "|         1|    2022-01-01|    2022-01-10|    Pneumonia|       5000.0|          9 days|             5000.0|\n",
      "|         2|    2022-02-05|    2022-02-09| Appendicitis|       7000.0|          4 days|             8400.0|\n",
      "|         3|    2022-03-12|    2022-03-18|Fractured Arm|       3500.0|          6 days|             3500.0|\n",
      "|         4|    2022-04-02|    2022-04-08| Heart Attack|      15000.0|          6 days|            22500.0|\n",
      "|         5|    2022-05-05|    2022-05-07|    Influenza|       2500.0|          2 days|             2500.0|\n",
      "|         6|    2022-06-10|    2022-06-15| Appendicitis|       8000.0|          5 days|             9600.0|\n",
      "|         7|    2022-07-20|    2022-07-25|    Pneumonia|       5500.0|          5 days|             5500.0|\n",
      "|         8|    2022-08-25|    2022-09-01| Heart Attack|      20000.0|          7 days|            30000.0|\n",
      "|         9|    2022-09-15|    2022-09-22|Fractured Leg|       6000.0|          7 days|             6000.0|\n",
      "|        10|    2022-10-05|    2022-10-10| Appendicitis|       7500.0|          5 days|             9000.0|\n",
      "|        11|    2022-11-02|    2022-11-05|    Influenza|       2800.0|          3 days|             2800.0|\n",
      "|        12|    2022-12-10|    2022-12-18|    Pneumonia|       6000.0|          8 days|             6000.0|\n",
      "|        13|    2023-01-02|    2023-01-09| Heart Attack|      18000.0|          7 days|            27000.0|\n",
      "|        14|    2023-02-14|    2023-02-18| Appendicitis|       7200.0|          4 days|             8640.0|\n",
      "|        15|    2023-03-20|    2023-03-28|Fractured Arm|       3800.0|          8 days|             3800.0|\n",
      "|        16|    2023-04-05|    2023-04-11|    Influenza|       2700.0|          6 days|             2700.0|\n",
      "|        17|    2023-05-08|    2023-05-11| Heart Attack|      16000.0|          3 days|            24000.0|\n",
      "|        18|    2023-06-15|    2023-06-20|    Pneumonia|       4800.0|          5 days|             4800.0|\n",
      "|        19|    2023-07-22|    2023-07-27|Fractured Leg|       6500.0|          5 days|             6500.0|\n",
      "|        20|    2023-08-10|    2023-08-16| Appendicitis|       7800.0|          6 days|             9360.0|\n",
      "+----------+--------------+--------------+-------------+-------------+----------------+-------------------+\n",
      "only showing top 20 rows\n",
      "\n"
     ]
    }
   ],
   "source": [
    "new_hosp_df5.show()"
   ]
  },
  {
   "cell_type": "markdown",
   "id": "81e4f996",
   "metadata": {},
   "source": [
    "## JUST"
   ]
  },
  {
   "cell_type": "code",
   "execution_count": 23,
   "id": "8bf5cf1a",
   "metadata": {},
   "outputs": [],
   "source": [
    "new_hosp_df6 = new_hosp_df5.select(\"patient_id\",\"diagnosis\",\"hospital_bill\",\"adjusted_total_cost\")"
   ]
  },
  {
   "cell_type": "code",
   "execution_count": 24,
   "id": "4f0b59c0",
   "metadata": {},
   "outputs": [
    {
     "name": "stdout",
     "output_type": "stream",
     "text": [
      "+----------+-------------+-------------+-------------------+\n",
      "|patient_id|    diagnosis|hospital_bill|adjusted_total_cost|\n",
      "+----------+-------------+-------------+-------------------+\n",
      "|         1|    Pneumonia|       5000.0|             5000.0|\n",
      "|         2| Appendicitis|       7000.0|             8400.0|\n",
      "|         3|Fractured Arm|       3500.0|             3500.0|\n",
      "|         4| Heart Attack|      15000.0|            22500.0|\n",
      "|         5|    Influenza|       2500.0|             2500.0|\n",
      "|         6| Appendicitis|       8000.0|             9600.0|\n",
      "|         7|    Pneumonia|       5500.0|             5500.0|\n",
      "|         8| Heart Attack|      20000.0|            30000.0|\n",
      "|         9|Fractured Leg|       6000.0|             6000.0|\n",
      "|        10| Appendicitis|       7500.0|             9000.0|\n",
      "|        11|    Influenza|       2800.0|             2800.0|\n",
      "|        12|    Pneumonia|       6000.0|             6000.0|\n",
      "|        13| Heart Attack|      18000.0|            27000.0|\n",
      "|        14| Appendicitis|       7200.0|             8640.0|\n",
      "|        15|Fractured Arm|       3800.0|             3800.0|\n",
      "|        16|    Influenza|       2700.0|             2700.0|\n",
      "|        17| Heart Attack|      16000.0|            24000.0|\n",
      "|        18|    Pneumonia|       4800.0|             4800.0|\n",
      "|        19|Fractured Leg|       6500.0|             6500.0|\n",
      "|        20| Appendicitis|       7800.0|             9360.0|\n",
      "+----------+-------------+-------------+-------------------+\n",
      "only showing top 20 rows\n",
      "\n"
     ]
    }
   ],
   "source": [
    "new_hosp_df6.show()"
   ]
  },
  {
   "cell_type": "code",
   "execution_count": null,
   "id": "4e68cc57",
   "metadata": {},
   "outputs": [],
   "source": []
  }
 ],
 "metadata": {
  "kernelspec": {
   "display_name": "Pyspark 3",
   "language": "python",
   "name": "pyspark3"
  },
  "language_info": {
   "codemirror_mode": {
    "name": "ipython",
    "version": 3
   },
   "file_extension": ".py",
   "mimetype": "text/x-python",
   "name": "python",
   "nbconvert_exporter": "python",
   "pygments_lexer": "ipython3",
   "version": "3.6.12"
  }
 },
 "nbformat": 4,
 "nbformat_minor": 5
}
